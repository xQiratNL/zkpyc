{
 "cells": [
  {
   "cell_type": "markdown",
   "id": "62240ff0-a68c-4e62-9bb7-54166ab2d4cc",
   "metadata": {},
   "source": [
    "# Zero-Knowledge Proof of Sudoku Solution"
   ]
  },
  {
   "cell_type": "markdown",
   "id": "a1c017e6-06a9-433e-bf4e-b46117aac27f",
   "metadata": {},
   "source": [
    "In this example we will demonstrate how ZKPyC can be used to create a zero-knowledge proof of a valid sudoku solution."
   ]
  },
  {
   "cell_type": "code",
   "execution_count": 1,
   "id": "75dfacaf-51ca-40e3-895d-28f4d23cc0ec",
   "metadata": {},
   "outputs": [],
   "source": [
    "from zkpyc import ZKP"
   ]
  },
  {
   "cell_type": "code",
   "execution_count": 2,
   "id": "ac19508d-d731-465e-b983-00b4311d2db4",
   "metadata": {},
   "outputs": [],
   "source": [
    "zkp = ZKP(modulus=\"bls12_381\", backend=\"groth16\")"
   ]
  },
  {
   "cell_type": "code",
   "execution_count": 3,
   "id": "db474096-46f5-4a04-97f7-1a56ad839982",
   "metadata": {},
   "outputs": [],
   "source": [
    "from zkpyc.types import Private, Public, Array, field"
   ]
  },
  {
   "cell_type": "markdown",
   "id": "71160361-d405-4a7c-b7f0-aac448a4c6e9",
   "metadata": {},
   "source": [
    "First, we define the validity function `is_valid` for checking that a solution is valid"
   ]
  },
  {
   "cell_type": "code",
   "execution_count": 4,
   "id": "b34785b0-5985-453f-8d85-0de93c20df37",
   "metadata": {},
   "outputs": [],
   "source": [
    "N: int = 9 # grid size\n",
    "M: int = 3 # sub-grid size\n",
    "\n",
    "def is_valid(grid: Array[Array[int, 9], 9]) -> bool:\n",
    "    # Check that cell value is in correct range\n",
    "    for i in range(N):\n",
    "        for j in range(N):\n",
    "            assert 1 <= grid[i][j] <= 9, \"Each cell must contain a number between 1 and 9.\"\n",
    "\n",
    "    # Check that rows have unique values\n",
    "    for i in range(N):\n",
    "        for j in range(N):\n",
    "            for k in range(j + 1, N):\n",
    "                assert grid[i][j] != grid[i][k], \"Each row must contain unique values.\"\n",
    "\n",
    "    # Check that columns have unique values\n",
    "    for j in range(N):\n",
    "        for i in range(N):\n",
    "            for k in range(i + 1, N):\n",
    "                assert grid[i][j] != grid[k][j], \"Each column must contain unique values.\"\n",
    "\n",
    "    # Check that each 3x3 sub-grid has unique values\n",
    "    for x in range(N // M):\n",
    "        for y in range(N // M):\n",
    "            subgrid: Array[int, 9] = [0 for _ in range(9)]\n",
    "            idx: int = 0\n",
    "            for i in range(M):\n",
    "                for j in range(M):\n",
    "                    subgrid[idx] = grid[x * M + i][y * M + j]\n",
    "                    idx += 1\n",
    "            for i in range(M):\n",
    "                for j in range(i + 1, M):\n",
    "                    assert subgrid[i] != subgrid[j], \"Each 3x3 sub-grid must contain unique values.\"\n",
    "    \n",
    "    return True"
   ]
  },
  {
   "cell_type": "markdown",
   "id": "25438e3e-cd24-41de-ab87-4de15e3b8f94",
   "metadata": {},
   "source": [
    "Next, we define the proof of solution function `check_puzzle`"
   ]
  },
  {
   "cell_type": "code",
   "execution_count": 5,
   "id": "227c257c-ef83-43b6-9616-8293f4e5ac6c",
   "metadata": {},
   "outputs": [],
   "source": [
    "def check_puzzle(witness: Private[Array[int, 81]], sudoku_puzzle: Public[Array[Array[int, 9], 9]]) -> bool:\n",
    "    grid: Array[Array[int, 9], 9] = [[0 for _ in range(N)] for _ in range(N)]\n",
    "    for i in range(N):\n",
    "        for j in range(N):\n",
    "            grid[i][j] = witness[i * N + j]\n",
    "    \n",
    "    # Check that the provided solution matches the original puzzle\n",
    "    for i in range(N):\n",
    "        for j in range(N):\n",
    "            assert grid[i][j] == sudoku_puzzle[i][j] or sudoku_puzzle[i][j] == 0, \"Provided solution does not match the original puzzle.\"\n",
    "\n",
    "    return True if is_valid(grid) == True else False"
   ]
  },
  {
   "cell_type": "markdown",
   "id": "6f30fae2-cd7e-45d5-8555-7f81d7fcce43",
   "metadata": {},
   "source": [
    "## Compile the Zero-Knowledge Proof"
   ]
  },
  {
   "cell_type": "markdown",
   "id": "d44c30d1-9fab-4c88-bc1d-17d07911fe0c",
   "metadata": {},
   "source": [
    "After defining the zero-knowledge statement as the function above, we can compile it as follows"
   ]
  },
  {
   "cell_type": "code",
   "execution_count": 6,
   "id": "f38c5f09-f68c-4815-95d9-d73da47b7b0c",
   "metadata": {},
   "outputs": [
    {
     "data": {
      "text/plain": [
       "8838"
      ]
     },
     "execution_count": 6,
     "metadata": {},
     "output_type": "execute_result"
    }
   ],
   "source": [
    "zkp.compile(check_puzzle, includes=[is_valid, M, N], global_vars=globals())"
   ]
  },
  {
   "cell_type": "code",
   "execution_count": 7,
   "id": "03b2a385-dd38-4fe3-a1a8-4d436d6e1e71",
   "metadata": {},
   "outputs": [],
   "source": [
    "crs = zkp.generate_crs(check_puzzle)\n",
    "zkp.store_crs(check_puzzle, crs) # optional if running locally"
   ]
  },
  {
   "cell_type": "markdown",
   "id": "5b905d72-e513-4eb3-b513-e119bdd4a8c3",
   "metadata": {},
   "source": [
    "Since the `check_puzzle` function compiled successfully (at around 8.8k constraints), we can use it to provide a zero-knowledge proof of any valid solution to a given puzzle"
   ]
  },
  {
   "cell_type": "markdown",
   "id": "aa8fdf1d-3959-4b5a-8f6d-2cdc0f51dd4c",
   "metadata": {},
   "source": [
    "## Prove and Verify a Witness"
   ]
  },
  {
   "cell_type": "markdown",
   "id": "c01f5084-6e71-4d78-b387-a834adc6ad17",
   "metadata": {},
   "source": [
    "Let's consider a hard puzzle with lots of blank cells"
   ]
  },
  {
   "cell_type": "code",
   "execution_count": 8,
   "id": "3dce9f6c-b0a7-4693-8ac1-21f52962ab9e",
   "metadata": {},
   "outputs": [],
   "source": [
    "puzzle: Array[Array[int, 9], 9] = [\n",
    "    [0, 2, 0, 0, 0, 0, 0, 0, 0],\n",
    "    [0, 0, 0, 6, 0, 0, 0, 0, 3],\n",
    "    [0, 7, 4, 0, 8, 0, 0, 0, 0],\n",
    "    [0, 0, 0, 0, 0, 3, 0, 0, 2],\n",
    "    [0, 8, 0, 0, 4, 0, 0, 1, 0],\n",
    "    [6, 0, 0, 5, 0, 0, 0, 0, 0],\n",
    "    [0, 0, 0, 0, 1, 0, 7, 8, 0],\n",
    "    [5, 0, 0, 0, 0, 9, 0, 0, 0],\n",
    "    [0, 0, 0, 0, 0, 0, 0, 4, 0],\n",
    "]"
   ]
  },
  {
   "cell_type": "markdown",
   "id": "77fa4fa8-136b-4603-aa31-c6cd3101f476",
   "metadata": {},
   "source": [
    "This would take an average person a long time to solve, but luckily we know a solution - and we can prove it too!"
   ]
  },
  {
   "cell_type": "markdown",
   "id": "add51f42-1954-4768-bf75-344fbb8ad1e9",
   "metadata": {},
   "source": [
    "### Case 1: Valid Solution"
   ]
  },
  {
   "cell_type": "markdown",
   "id": "2439291c-9748-4982-a816-587d76273c1a",
   "metadata": {},
   "source": [
    "Let's consider the following solution to the puzzle"
   ]
  },
  {
   "cell_type": "code",
   "execution_count": 9,
   "id": "1239d68f-fd0e-4843-adfd-1f6961400ab4",
   "metadata": {},
   "outputs": [],
   "source": [
    "solution: Private[Array[int, 81]] = [\n",
    "    1, 2, 6, 4, 3, 7, 9, 5, 8,\n",
    "    8, 9, 5, 6, 2, 1, 4, 7, 3,\n",
    "    3, 7, 4, 9, 8, 5, 1, 2, 6,\n",
    "    4, 5, 7, 1, 9, 3, 8, 6, 2,\n",
    "    9, 8, 3, 2, 4, 6, 5, 1, 7,\n",
    "    6, 1, 2, 5, 7, 8, 3, 9, 4,\n",
    "    2, 6, 9, 3, 1, 4, 7, 8, 5,\n",
    "    5, 4, 8, 7, 6, 9, 2, 3, 1,\n",
    "    7, 3, 1, 8, 5, 2, 6, 4, 9,\n",
    "]"
   ]
  },
  {
   "cell_type": "markdown",
   "id": "72c94111-30dd-4385-b5e3-3558bfc9c7c3",
   "metadata": {},
   "source": [
    "We can first check that this is indeed valid by running the solution and puzzle through the `check_puzzle` function"
   ]
  },
  {
   "cell_type": "code",
   "execution_count": 10,
   "id": "5d7910b2-3c78-4676-8837-59a09e4e121b",
   "metadata": {},
   "outputs": [
    {
     "data": {
      "text/plain": [
       "True"
      ]
     },
     "execution_count": 10,
     "metadata": {},
     "output_type": "execute_result"
    }
   ],
   "source": [
    "check_puzzle(solution, puzzle)"
   ]
  },
  {
   "cell_type": "markdown",
   "id": "c7d6f7f8-680e-4434-bda9-769639d66389",
   "metadata": {},
   "source": [
    "Once we generate the zero-knowledge proof and send it out, anyone will be able to verify that the solution to the puzzle is correct."
   ]
  },
  {
   "cell_type": "code",
   "execution_count": 11,
   "id": "13ba4110-a535-4a83-8c68-34f896a3390c",
   "metadata": {},
   "outputs": [],
   "source": [
    "proof = zkp.prove(check_puzzle, solution, puzzle)\n",
    "zkp.store_proof(check_puzzle, proof) # optional if running locally"
   ]
  },
  {
   "cell_type": "code",
   "execution_count": 12,
   "id": "e8b9b334-b66d-4500-a9d4-05cc66d1ed51",
   "metadata": {},
   "outputs": [
    {
     "data": {
      "text/plain": [
       "True"
      ]
     },
     "execution_count": 12,
     "metadata": {},
     "output_type": "execute_result"
    }
   ],
   "source": [
    "zkp.verify(check_puzzle, None, puzzle, return_value=True)"
   ]
  },
  {
   "cell_type": "markdown",
   "id": "9eda8f47-d20d-41e3-968e-4b42db607499",
   "metadata": {},
   "source": [
    "And just like that, we did not require the solution to verify its validity"
   ]
  },
  {
   "cell_type": "markdown",
   "id": "46e395c3-ecfb-4d53-b67e-f2a45a95e0fe",
   "metadata": {},
   "source": [
    "### Case 2: Incompatible Solution"
   ]
  },
  {
   "cell_type": "markdown",
   "id": "d465ef10-f7ac-43b4-819e-f34b96ae5dcb",
   "metadata": {},
   "source": [
    "Showing just a valid solution is not a convincing argument that our `check_puzzle` function operates correctly. Let us consider the case where the solution does not match the puzzle by switching the last two rows"
   ]
  },
  {
   "cell_type": "code",
   "execution_count": 13,
   "id": "49cfd7fd-607e-4138-a722-74c3f8eebc40",
   "metadata": {},
   "outputs": [],
   "source": [
    "incompatible_solution: Private[Array[int, 81]] = [\n",
    "    1, 2, 6, 4, 3, 7, 9, 5, 8,\n",
    "    8, 9, 5, 6, 2, 1, 4, 7, 3,\n",
    "    3, 7, 4, 9, 8, 5, 1, 2, 6,\n",
    "    4, 5, 7, 1, 9, 3, 8, 6, 2,\n",
    "    9, 8, 3, 2, 4, 6, 5, 1, 7,\n",
    "    6, 1, 2, 5, 7, 8, 3, 9, 4,\n",
    "    2, 6, 9, 3, 1, 4, 7, 8, 5,\n",
    "    7, 3, 1, 8, 5, 2, 6, 4, 9,\n",
    "    5, 4, 8, 7, 6, 9, 2, 3, 1,\n",
    "]"
   ]
  },
  {
   "cell_type": "markdown",
   "id": "0772ead6-8bcc-4a93-9ba0-8df74c81e434",
   "metadata": {},
   "source": [
    "We can check this and see that there is an assertion error"
   ]
  },
  {
   "cell_type": "code",
   "execution_count": 14,
   "id": "06210989-cfba-4a7d-a6f1-0d8d7ae54c7c",
   "metadata": {},
   "outputs": [
    {
     "ename": "AssertionError",
     "evalue": "Provided solution does not match the original puzzle.",
     "output_type": "error",
     "traceback": [
      "\u001b[0;31m---------------------------------------------------------------------------\u001b[0m",
      "\u001b[0;31mAssertionError\u001b[0m                            Traceback (most recent call last)",
      "Cell \u001b[0;32mIn[14], line 1\u001b[0m\n\u001b[0;32m----> 1\u001b[0m \u001b[43mcheck_puzzle\u001b[49m\u001b[43m(\u001b[49m\u001b[43mincompatible_solution\u001b[49m\u001b[43m,\u001b[49m\u001b[43m \u001b[49m\u001b[43mpuzzle\u001b[49m\u001b[43m)\u001b[49m\n",
      "Cell \u001b[0;32mIn[5], line 10\u001b[0m, in \u001b[0;36mcheck_puzzle\u001b[0;34m(witness, sudoku_puzzle)\u001b[0m\n\u001b[1;32m      8\u001b[0m \u001b[38;5;28;01mfor\u001b[39;00m i \u001b[38;5;129;01min\u001b[39;00m \u001b[38;5;28mrange\u001b[39m(N):\n\u001b[1;32m      9\u001b[0m     \u001b[38;5;28;01mfor\u001b[39;00m j \u001b[38;5;129;01min\u001b[39;00m \u001b[38;5;28mrange\u001b[39m(N):\n\u001b[0;32m---> 10\u001b[0m         \u001b[38;5;28;01massert\u001b[39;00m grid[i][j] \u001b[38;5;241m==\u001b[39m sudoku_puzzle[i][j] \u001b[38;5;129;01mor\u001b[39;00m sudoku_puzzle[i][j] \u001b[38;5;241m==\u001b[39m \u001b[38;5;241m0\u001b[39m, \u001b[38;5;124m\"\u001b[39m\u001b[38;5;124mProvided solution does not match the original puzzle.\u001b[39m\u001b[38;5;124m\"\u001b[39m\n\u001b[1;32m     12\u001b[0m \u001b[38;5;28;01mreturn\u001b[39;00m \u001b[38;5;28;01mTrue\u001b[39;00m \u001b[38;5;28;01mif\u001b[39;00m is_valid(grid) \u001b[38;5;241m==\u001b[39m \u001b[38;5;28;01mTrue\u001b[39;00m \u001b[38;5;28;01melse\u001b[39;00m \u001b[38;5;28;01mFalse\u001b[39;00m\n",
      "\u001b[0;31mAssertionError\u001b[0m: Provided solution does not match the original puzzle."
     ]
    }
   ],
   "source": [
    "check_puzzle(incompatible_solution, puzzle)"
   ]
  },
  {
   "cell_type": "markdown",
   "id": "cf4210c3-ac5a-4dac-9964-805a77ed1639",
   "metadata": {},
   "source": [
    "And just like before, we can provide a zero-knowledge proof of this fact"
   ]
  },
  {
   "cell_type": "code",
   "execution_count": 15,
   "id": "8f009815-8c48-4fc1-a171-57231ae55933",
   "metadata": {},
   "outputs": [],
   "source": [
    "proof = zkp.prove(check_puzzle, incompatible_solution, puzzle)"
   ]
  },
  {
   "cell_type": "code",
   "execution_count": 16,
   "id": "8982b5e1-b567-447b-b3b2-30106697561d",
   "metadata": {},
   "outputs": [
    {
     "data": {
      "text/plain": [
       "False"
      ]
     },
     "execution_count": 16,
     "metadata": {},
     "output_type": "execute_result"
    }
   ],
   "source": [
    "zkp.verify(check_puzzle, None, puzzle, return_value=True)"
   ]
  },
  {
   "cell_type": "markdown",
   "id": "c6932723-407f-4477-8358-657c5ee4462e",
   "metadata": {},
   "source": [
    "### Case 3: Invalid Solutions"
   ]
  },
  {
   "cell_type": "markdown",
   "id": "c1d667cf-0b86-4adc-bf46-9708cad0aee4",
   "metadata": {},
   "source": [
    "Lastly, let's also consider cases where the solution matches the puzzle but is considered invalid."
   ]
  },
  {
   "cell_type": "markdown",
   "id": "424a5811-f608-4fe4-919a-ac94f9f32219",
   "metadata": {},
   "source": [
    "#### Cell value out of bounds"
   ]
  },
  {
   "cell_type": "markdown",
   "id": "af558746-0f03-4766-ac34-69a7d6010a58",
   "metadata": {},
   "source": [
    "Let us consider picking a random cell and setting it to 10"
   ]
  },
  {
   "cell_type": "code",
   "execution_count": 17,
   "id": "001bfc77-9664-4e9b-a4aa-31e9214f276f",
   "metadata": {},
   "outputs": [],
   "source": [
    "invalid_solution_1: Private[Array[int, 81]] = [\n",
    "    1, 2, 6, 4, 3, 7, 9, 5, 8,\n",
    "    8, 9, 5, 6, 2, 1, 4, 7, 3,\n",
    "    3, 7, 4, 9, 8, 5, 1, 2, 6,\n",
    "    4, 5, 7, 1, 9, 3, 8, 6, 2,\n",
    "    9, 8, 3, 2, 4, 6, 5, 1, 7,\n",
    "    6, 1, 2, 5, 7, 8, 3, 10, 4, # 10 is out of bounds\n",
    "    2, 6, 9, 3, 1, 4, 7, 8, 5,\n",
    "    5, 4, 8, 7, 6, 9, 2, 3, 1,\n",
    "    7, 3, 1, 8, 5, 2, 6, 4, 9,\n",
    "]"
   ]
  },
  {
   "cell_type": "code",
   "execution_count": 18,
   "id": "2b2e941c-2504-41e2-b3f9-04b480980833",
   "metadata": {},
   "outputs": [
    {
     "ename": "AssertionError",
     "evalue": "Each cell must contain a number between 1 and 9.",
     "output_type": "error",
     "traceback": [
      "\u001b[0;31m---------------------------------------------------------------------------\u001b[0m",
      "\u001b[0;31mAssertionError\u001b[0m                            Traceback (most recent call last)",
      "Cell \u001b[0;32mIn[18], line 1\u001b[0m\n\u001b[0;32m----> 1\u001b[0m \u001b[43mcheck_puzzle\u001b[49m\u001b[43m(\u001b[49m\u001b[43minvalid_solution_1\u001b[49m\u001b[43m,\u001b[49m\u001b[43m \u001b[49m\u001b[43mpuzzle\u001b[49m\u001b[43m)\u001b[49m\n",
      "Cell \u001b[0;32mIn[5], line 12\u001b[0m, in \u001b[0;36mcheck_puzzle\u001b[0;34m(witness, sudoku_puzzle)\u001b[0m\n\u001b[1;32m      9\u001b[0m     \u001b[38;5;28;01mfor\u001b[39;00m j \u001b[38;5;129;01min\u001b[39;00m \u001b[38;5;28mrange\u001b[39m(N):\n\u001b[1;32m     10\u001b[0m         \u001b[38;5;28;01massert\u001b[39;00m grid[i][j] \u001b[38;5;241m==\u001b[39m sudoku_puzzle[i][j] \u001b[38;5;129;01mor\u001b[39;00m sudoku_puzzle[i][j] \u001b[38;5;241m==\u001b[39m \u001b[38;5;241m0\u001b[39m, \u001b[38;5;124m\"\u001b[39m\u001b[38;5;124mProvided solution does not match the original puzzle.\u001b[39m\u001b[38;5;124m\"\u001b[39m\n\u001b[0;32m---> 12\u001b[0m \u001b[38;5;28;01mreturn\u001b[39;00m \u001b[38;5;28;01mTrue\u001b[39;00m \u001b[38;5;28;01mif\u001b[39;00m \u001b[43mis_valid\u001b[49m\u001b[43m(\u001b[49m\u001b[43mgrid\u001b[49m\u001b[43m)\u001b[49m \u001b[38;5;241m==\u001b[39m \u001b[38;5;28;01mTrue\u001b[39;00m \u001b[38;5;28;01melse\u001b[39;00m \u001b[38;5;28;01mFalse\u001b[39;00m\n",
      "Cell \u001b[0;32mIn[4], line 8\u001b[0m, in \u001b[0;36mis_valid\u001b[0;34m(grid)\u001b[0m\n\u001b[1;32m      6\u001b[0m \u001b[38;5;28;01mfor\u001b[39;00m i \u001b[38;5;129;01min\u001b[39;00m \u001b[38;5;28mrange\u001b[39m(N):\n\u001b[1;32m      7\u001b[0m     \u001b[38;5;28;01mfor\u001b[39;00m j \u001b[38;5;129;01min\u001b[39;00m \u001b[38;5;28mrange\u001b[39m(N):\n\u001b[0;32m----> 8\u001b[0m         \u001b[38;5;28;01massert\u001b[39;00m \u001b[38;5;241m1\u001b[39m \u001b[38;5;241m<\u001b[39m\u001b[38;5;241m=\u001b[39m grid[i][j] \u001b[38;5;241m<\u001b[39m\u001b[38;5;241m=\u001b[39m \u001b[38;5;241m9\u001b[39m, \u001b[38;5;124m\"\u001b[39m\u001b[38;5;124mEach cell must contain a number between 1 and 9.\u001b[39m\u001b[38;5;124m\"\u001b[39m\n\u001b[1;32m     10\u001b[0m \u001b[38;5;66;03m# Check that rows have unique values\u001b[39;00m\n\u001b[1;32m     11\u001b[0m \u001b[38;5;28;01mfor\u001b[39;00m i \u001b[38;5;129;01min\u001b[39;00m \u001b[38;5;28mrange\u001b[39m(N):\n",
      "\u001b[0;31mAssertionError\u001b[0m: Each cell must contain a number between 1 and 9."
     ]
    }
   ],
   "source": [
    "check_puzzle(invalid_solution_1, puzzle)"
   ]
  },
  {
   "cell_type": "markdown",
   "id": "6e9657b9-ebb7-43f7-8ce9-b06264be6321",
   "metadata": {},
   "source": [
    "The function outputs correctly and its corresponding zero-knowledge proof can be generated and verified as follows"
   ]
  },
  {
   "cell_type": "code",
   "execution_count": 19,
   "id": "da9094b5-d45a-4841-9dcc-de129585ac81",
   "metadata": {},
   "outputs": [],
   "source": [
    "proof = zkp.prove(check_puzzle, invalid_solution_1, puzzle)"
   ]
  },
  {
   "cell_type": "code",
   "execution_count": 20,
   "id": "da0d99ec-42b6-4c89-a6b2-50adf943ab95",
   "metadata": {},
   "outputs": [
    {
     "data": {
      "text/plain": [
       "False"
      ]
     },
     "execution_count": 20,
     "metadata": {},
     "output_type": "execute_result"
    }
   ],
   "source": [
    "zkp.verify(check_puzzle, None, puzzle, return_value=True)"
   ]
  },
  {
   "cell_type": "markdown",
   "id": "99e0dd56-da0c-4db5-86bf-253e3a5e3274",
   "metadata": {},
   "source": [
    "#### Duplicate values"
   ]
  },
  {
   "cell_type": "markdown",
   "id": "e10f17be-fd77-4e12-aac4-bdbd016ae1ea",
   "metadata": {},
   "source": [
    "Next, we modify the valid solution by mutating `solution[1][5]` to store the duplicate value 6"
   ]
  },
  {
   "cell_type": "code",
   "execution_count": 21,
   "id": "3c8a088e-8027-4386-8774-340dda6122b0",
   "metadata": {},
   "outputs": [],
   "source": [
    "invalid_solution_2: Private[Array[int, 81]] = [\n",
    "    1, 2, 6, 4, 3, 7, 9, 5, 8,\n",
    "    8, 9, 5, 6, 2, 6, 4, 7, 3,  # Duplicate 6 in second row\n",
    "    3, 7, 4, 9, 8, 5, 1, 2, 6,\n",
    "    4, 5, 7, 1, 9, 3, 8, 6, 2,\n",
    "    9, 8, 3, 2, 4, 6, 5, 1, 7,\n",
    "    6, 1, 2, 5, 7, 8, 3, 9, 4,\n",
    "    2, 6, 9, 3, 1, 4, 7, 8, 5,\n",
    "    5, 4, 8, 7, 6, 9, 2, 3, 1,\n",
    "    7, 3, 1, 8, 5, 2, 6, 4, 9,\n",
    "]"
   ]
  },
  {
   "cell_type": "code",
   "execution_count": 22,
   "id": "ca437482-c6c4-477e-83ac-c1dba1a63136",
   "metadata": {},
   "outputs": [
    {
     "ename": "AssertionError",
     "evalue": "Each row must contain unique values.",
     "output_type": "error",
     "traceback": [
      "\u001b[0;31m---------------------------------------------------------------------------\u001b[0m",
      "\u001b[0;31mAssertionError\u001b[0m                            Traceback (most recent call last)",
      "Cell \u001b[0;32mIn[22], line 1\u001b[0m\n\u001b[0;32m----> 1\u001b[0m \u001b[43mcheck_puzzle\u001b[49m\u001b[43m(\u001b[49m\u001b[43minvalid_solution_2\u001b[49m\u001b[43m,\u001b[49m\u001b[43m \u001b[49m\u001b[43mpuzzle\u001b[49m\u001b[43m)\u001b[49m\n",
      "Cell \u001b[0;32mIn[5], line 12\u001b[0m, in \u001b[0;36mcheck_puzzle\u001b[0;34m(witness, sudoku_puzzle)\u001b[0m\n\u001b[1;32m      9\u001b[0m     \u001b[38;5;28;01mfor\u001b[39;00m j \u001b[38;5;129;01min\u001b[39;00m \u001b[38;5;28mrange\u001b[39m(N):\n\u001b[1;32m     10\u001b[0m         \u001b[38;5;28;01massert\u001b[39;00m grid[i][j] \u001b[38;5;241m==\u001b[39m sudoku_puzzle[i][j] \u001b[38;5;129;01mor\u001b[39;00m sudoku_puzzle[i][j] \u001b[38;5;241m==\u001b[39m \u001b[38;5;241m0\u001b[39m, \u001b[38;5;124m\"\u001b[39m\u001b[38;5;124mProvided solution does not match the original puzzle.\u001b[39m\u001b[38;5;124m\"\u001b[39m\n\u001b[0;32m---> 12\u001b[0m \u001b[38;5;28;01mreturn\u001b[39;00m \u001b[38;5;28;01mTrue\u001b[39;00m \u001b[38;5;28;01mif\u001b[39;00m \u001b[43mis_valid\u001b[49m\u001b[43m(\u001b[49m\u001b[43mgrid\u001b[49m\u001b[43m)\u001b[49m \u001b[38;5;241m==\u001b[39m \u001b[38;5;28;01mTrue\u001b[39;00m \u001b[38;5;28;01melse\u001b[39;00m \u001b[38;5;28;01mFalse\u001b[39;00m\n",
      "Cell \u001b[0;32mIn[4], line 14\u001b[0m, in \u001b[0;36mis_valid\u001b[0;34m(grid)\u001b[0m\n\u001b[1;32m     12\u001b[0m     \u001b[38;5;28;01mfor\u001b[39;00m j \u001b[38;5;129;01min\u001b[39;00m \u001b[38;5;28mrange\u001b[39m(N):\n\u001b[1;32m     13\u001b[0m         \u001b[38;5;28;01mfor\u001b[39;00m k \u001b[38;5;129;01min\u001b[39;00m \u001b[38;5;28mrange\u001b[39m(j \u001b[38;5;241m+\u001b[39m \u001b[38;5;241m1\u001b[39m, N):\n\u001b[0;32m---> 14\u001b[0m             \u001b[38;5;28;01massert\u001b[39;00m grid[i][j] \u001b[38;5;241m!=\u001b[39m grid[i][k], \u001b[38;5;124m\"\u001b[39m\u001b[38;5;124mEach row must contain unique values.\u001b[39m\u001b[38;5;124m\"\u001b[39m\n\u001b[1;32m     16\u001b[0m \u001b[38;5;66;03m# Check that columns have unique values\u001b[39;00m\n\u001b[1;32m     17\u001b[0m \u001b[38;5;28;01mfor\u001b[39;00m j \u001b[38;5;129;01min\u001b[39;00m \u001b[38;5;28mrange\u001b[39m(N):\n",
      "\u001b[0;31mAssertionError\u001b[0m: Each row must contain unique values."
     ]
    }
   ],
   "source": [
    "check_puzzle(invalid_solution_2, puzzle)"
   ]
  },
  {
   "cell_type": "markdown",
   "id": "952a575e-7668-4434-a30b-3318cd9a6442",
   "metadata": {},
   "source": [
    "Which has the following proof"
   ]
  },
  {
   "cell_type": "code",
   "execution_count": 23,
   "id": "c18e963d-efd2-449a-98f3-88b08bdd3c3d",
   "metadata": {},
   "outputs": [],
   "source": [
    "proof = zkp.prove(check_puzzle, invalid_solution_2, puzzle)"
   ]
  },
  {
   "cell_type": "code",
   "execution_count": 24,
   "id": "a1658b6f-8954-4d51-aa86-d7eb65bf6d52",
   "metadata": {},
   "outputs": [
    {
     "data": {
      "text/plain": [
       "False"
      ]
     },
     "execution_count": 24,
     "metadata": {},
     "output_type": "execute_result"
    }
   ],
   "source": [
    "zkp.verify(check_puzzle, None, puzzle, return_value=True)"
   ]
  },
  {
   "cell_type": "markdown",
   "id": "f2a29036-4936-438b-94b8-55673476e0fd",
   "metadata": {},
   "source": [
    "## Finish"
   ]
  },
  {
   "cell_type": "markdown",
   "id": "31e8caed-6dd2-49e1-8acc-29174d5293c5",
   "metadata": {},
   "source": [
    "And as always, we clear the ZKPyC cache once we are done generating proofs"
   ]
  },
  {
   "cell_type": "code",
   "execution_count": 25,
   "id": "b30f7d73-c91f-415a-b2d3-ee29c59bdfa1",
   "metadata": {},
   "outputs": [],
   "source": [
    "zkp.cleanup()"
   ]
  }
 ],
 "metadata": {
  "kernelspec": {
   "display_name": "Python 3 (ipykernel)",
   "language": "python",
   "name": "python3"
  },
  "language_info": {
   "codemirror_mode": {
    "name": "ipython",
    "version": 3
   },
   "file_extension": ".py",
   "mimetype": "text/x-python",
   "name": "python",
   "nbconvert_exporter": "python",
   "pygments_lexer": "ipython3",
   "version": "3.12.8"
  }
 },
 "nbformat": 4,
 "nbformat_minor": 5
}
